{
  "nbformat": 4,
  "nbformat_minor": 0,
  "metadata": {
    "colab": {
      "name": "hackathon.ipynb",
      "provenance": [],
      "mount_file_id": "1KIfdG6j3uEUfgLumkCMc7wTzoO-Vvp2G",
      "authorship_tag": "ABX9TyP+uuJP1CKu5ZzQpKgo7U0p",
      "include_colab_link": true
    },
    "kernelspec": {
      "name": "python3",
      "display_name": "Python 3"
    },
    "language_info": {
      "name": "python"
    }
  },
  "cells": [
    {
      "cell_type": "markdown",
      "metadata": {
        "id": "view-in-github",
        "colab_type": "text"
      },
      "source": [
        "<a href=\"https://colab.research.google.com/github/demie20/Cascade_hackathon-/blob/model2/hackathon.ipynb\" target=\"_parent\"><img src=\"https://colab.research.google.com/assets/colab-badge.svg\" alt=\"Open In Colab\"/></a>"
      ]
    },
    {
      "cell_type": "code",
      "source": [
        "import warnings\n",
        "warnings.filterwarnings('ignore')\n",
        "\n",
        "from IPython.display import display_html\n",
        "from sklearn.covariance import EllipticEnvelope\n",
        "from sklearn.neighbors import LocalOutlierFactor\n",
        "import matplotlib.pyplot as plt\n",
        "import numpy as np\n",
        "import pandas as pd\n",
        "import re\n",
        "import seaborn as sns\n",
        "from sklearn.feature_selection import SelectKBest, f_regression\n"
      ],
      "metadata": {
        "id": "Z_OU_icNbQGL"
      },
      "execution_count": null,
      "outputs": []
    },
    {
      "cell_type": "code",
      "source": [
        "ds_train= pd.read_csv('/train.csv')\n",
        "ds_test= pd.read_csv('/test.csv')"
      ],
      "metadata": {
        "id": "6jt4zKI2sh5P"
      },
      "execution_count": null,
      "outputs": []
    },
    {
      "cell_type": "code",
      "source": [
        "ds_train.loc[:, 'id'] = range(1, len(ds_train) + 1)\n",
        "\n",
        "start = ds_train['id'].max() + 1\n",
        "stop = start + len(ds_test)\n",
        "ds_test.loc[:, 'id'] = range(start, stop)"
      ],
      "metadata": {
        "id": "s6HZJviOwcmA"
      },
      "execution_count": null,
      "outputs": []
    },
    {
      "cell_type": "code",
      "source": [
        "df = pd.concat([ds_train, ds_test], ignore_index=True, sort=False)"
      ],
      "metadata": {
        "id": "Nz7jC3cjwwCm"
      },
      "execution_count": null,
      "outputs": []
    },
    {
      "cell_type": "code",
      "source": [
        "df.columns[:3]"
      ],
      "metadata": {
        "colab": {
          "base_uri": "https://localhost:8080/"
        },
        "id": "2l5JAl7Jw62h",
        "outputId": "f8201759-dfe2-4abe-f963-883b259598ae"
      },
      "execution_count": null,
      "outputs": [
        {
          "output_type": "execute_result",
          "data": {
            "text/plain": [
              "Index(['order_time', 'order_id', 'order_date'], dtype='object')"
            ]
          },
          "metadata": {},
          "execution_count": 7
        }
      ]
    },
    {
      "cell_type": "code",
      "source": [
        "def convert(name):\n",
        "    s1 = re.sub('(.)([A-Z][a-z]+)', r'\\1_\\2', name)\n",
        "    return re.sub('([a-z0-9])([A-Z])', r'\\1_\\2', s1).lower()"
      ],
      "metadata": {
        "id": "_L_pFb6GxYLv"
      },
      "execution_count": null,
      "outputs": []
    },
    {
      "cell_type": "code",
      "source": [
        "columns = [convert(col) for col in df.columns]\n",
        "df.columns = columns"
      ],
      "metadata": {
        "id": "RKdoBmzzxcRR"
      },
      "execution_count": null,
      "outputs": []
    },
    {
      "cell_type": "code",
      "source": [
        "df.loc[:4]"
      ],
      "metadata": {
        "colab": {
          "base_uri": "https://localhost:8080/",
          "height": 356
        },
        "id": "97-rXNVis5Jk",
        "outputId": "bf484e14-e54d-4247-cb86-0154f97af167"
      },
      "execution_count": null,
      "outputs": [
        {
          "output_type": "execute_result",
          "data": {
            "text/html": [
              "\n",
              "  <div id=\"df-38599cdf-5ce1-48f4-a6e2-26358aeef348\">\n",
              "    <div class=\"colab-df-container\">\n",
              "      <div>\n",
              "<style scoped>\n",
              "    .dataframe tbody tr th:only-of-type {\n",
              "        vertical-align: middle;\n",
              "    }\n",
              "\n",
              "    .dataframe tbody tr th {\n",
              "        vertical-align: top;\n",
              "    }\n",
              "\n",
              "    .dataframe thead th {\n",
              "        text-align: right;\n",
              "    }\n",
              "</style>\n",
              "<table border=\"1\" class=\"dataframe\">\n",
              "  <thead>\n",
              "    <tr style=\"text-align: right;\">\n",
              "      <th></th>\n",
              "      <th>order_time</th>\n",
              "      <th>order_id</th>\n",
              "      <th>order_date</th>\n",
              "      <th>allot_time</th>\n",
              "      <th>accept_time</th>\n",
              "      <th>pickup_time</th>\n",
              "      <th>delivered_time</th>\n",
              "      <th>rider_id</th>\n",
              "      <th>first_mile_distance</th>\n",
              "      <th>last_mile_distance</th>\n",
              "      <th>alloted_orders</th>\n",
              "      <th>delivered_orders</th>\n",
              "      <th>cancelled</th>\n",
              "      <th>undelivered_orders</th>\n",
              "      <th>lifetime_order_count</th>\n",
              "      <th>reassignment_method</th>\n",
              "      <th>reassignment_reason</th>\n",
              "      <th>reassigned_order</th>\n",
              "      <th>session_time</th>\n",
              "      <th>cancelled_time</th>\n",
              "      <th>id</th>\n",
              "    </tr>\n",
              "  </thead>\n",
              "  <tbody>\n",
              "    <tr>\n",
              "      <th>0</th>\n",
              "      <td>1/26/2021 2:21</td>\n",
              "      <td>556753</td>\n",
              "      <td>1/26/2021 0:00</td>\n",
              "      <td>1/26/2021 2:21</td>\n",
              "      <td>1/26/2021 2:22</td>\n",
              "      <td>1/26/2021 2:32</td>\n",
              "      <td>1/26/2021 2:49</td>\n",
              "      <td>11696.0</td>\n",
              "      <td>1.5666</td>\n",
              "      <td>2.65</td>\n",
              "      <td>46.0</td>\n",
              "      <td>46.0</td>\n",
              "      <td>0.0</td>\n",
              "      <td>0.0</td>\n",
              "      <td>621.0</td>\n",
              "      <td>NaN</td>\n",
              "      <td>NaN</td>\n",
              "      <td>NaN</td>\n",
              "      <td>NaN</td>\n",
              "      <td>NaN</td>\n",
              "      <td>1</td>\n",
              "    </tr>\n",
              "    <tr>\n",
              "      <th>1</th>\n",
              "      <td>1/26/2021 2:33</td>\n",
              "      <td>556754</td>\n",
              "      <td>1/26/2021 0:00</td>\n",
              "      <td>1/26/2021 2:33</td>\n",
              "      <td>1/26/2021 2:34</td>\n",
              "      <td>1/26/2021 2:50</td>\n",
              "      <td>1/26/2021 3:11</td>\n",
              "      <td>18117.0</td>\n",
              "      <td>2.5207</td>\n",
              "      <td>2.76</td>\n",
              "      <td>8.0</td>\n",
              "      <td>8.0</td>\n",
              "      <td>0.0</td>\n",
              "      <td>0.0</td>\n",
              "      <td>105.0</td>\n",
              "      <td>NaN</td>\n",
              "      <td>NaN</td>\n",
              "      <td>NaN</td>\n",
              "      <td>3.266667</td>\n",
              "      <td>NaN</td>\n",
              "      <td>2</td>\n",
              "    </tr>\n",
              "    <tr>\n",
              "      <th>2</th>\n",
              "      <td>1/26/2021 2:39</td>\n",
              "      <td>556755</td>\n",
              "      <td>1/26/2021 0:00</td>\n",
              "      <td>1/26/2021 2:39</td>\n",
              "      <td>1/26/2021 2:40</td>\n",
              "      <td>1/26/2021 2:56</td>\n",
              "      <td>1/26/2021 3:12</td>\n",
              "      <td>18623.0</td>\n",
              "      <td>2.2074</td>\n",
              "      <td>4.80</td>\n",
              "      <td>1.0</td>\n",
              "      <td>1.0</td>\n",
              "      <td>0.0</td>\n",
              "      <td>0.0</td>\n",
              "      <td>66.0</td>\n",
              "      <td>NaN</td>\n",
              "      <td>NaN</td>\n",
              "      <td>NaN</td>\n",
              "      <td>9.816667</td>\n",
              "      <td>NaN</td>\n",
              "      <td>3</td>\n",
              "    </tr>\n",
              "    <tr>\n",
              "      <th>3</th>\n",
              "      <td>1/26/2021 2:47</td>\n",
              "      <td>556756</td>\n",
              "      <td>1/26/2021 0:00</td>\n",
              "      <td>1/26/2021 2:48</td>\n",
              "      <td>1/26/2021 2:49</td>\n",
              "      <td>1/26/2021 3:21</td>\n",
              "      <td>1/26/2021 3:41</td>\n",
              "      <td>15945.0</td>\n",
              "      <td>2.1894</td>\n",
              "      <td>6.38</td>\n",
              "      <td>1.0</td>\n",
              "      <td>1.0</td>\n",
              "      <td>0.0</td>\n",
              "      <td>0.0</td>\n",
              "      <td>127.0</td>\n",
              "      <td>NaN</td>\n",
              "      <td>NaN</td>\n",
              "      <td>NaN</td>\n",
              "      <td>17.533333</td>\n",
              "      <td>NaN</td>\n",
              "      <td>4</td>\n",
              "    </tr>\n",
              "    <tr>\n",
              "      <th>4</th>\n",
              "      <td>1/26/2021 3:06</td>\n",
              "      <td>556757</td>\n",
              "      <td>1/26/2021 0:00</td>\n",
              "      <td>1/26/2021 3:07</td>\n",
              "      <td>1/26/2021 3:07</td>\n",
              "      <td>1/26/2021 3:31</td>\n",
              "      <td>1/26/2021 4:00</td>\n",
              "      <td>17589.0</td>\n",
              "      <td>2.7870</td>\n",
              "      <td>4.01</td>\n",
              "      <td>34.0</td>\n",
              "      <td>34.0</td>\n",
              "      <td>0.0</td>\n",
              "      <td>0.0</td>\n",
              "      <td>84.0</td>\n",
              "      <td>NaN</td>\n",
              "      <td>NaN</td>\n",
              "      <td>NaN</td>\n",
              "      <td>1.350000</td>\n",
              "      <td>NaN</td>\n",
              "      <td>5</td>\n",
              "    </tr>\n",
              "  </tbody>\n",
              "</table>\n",
              "</div>\n",
              "      <button class=\"colab-df-convert\" onclick=\"convertToInteractive('df-38599cdf-5ce1-48f4-a6e2-26358aeef348')\"\n",
              "              title=\"Convert this dataframe to an interactive table.\"\n",
              "              style=\"display:none;\">\n",
              "        \n",
              "  <svg xmlns=\"http://www.w3.org/2000/svg\" height=\"24px\"viewBox=\"0 0 24 24\"\n",
              "       width=\"24px\">\n",
              "    <path d=\"M0 0h24v24H0V0z\" fill=\"none\"/>\n",
              "    <path d=\"M18.56 5.44l.94 2.06.94-2.06 2.06-.94-2.06-.94-.94-2.06-.94 2.06-2.06.94zm-11 1L8.5 8.5l.94-2.06 2.06-.94-2.06-.94L8.5 2.5l-.94 2.06-2.06.94zm10 10l.94 2.06.94-2.06 2.06-.94-2.06-.94-.94-2.06-.94 2.06-2.06.94z\"/><path d=\"M17.41 7.96l-1.37-1.37c-.4-.4-.92-.59-1.43-.59-.52 0-1.04.2-1.43.59L10.3 9.45l-7.72 7.72c-.78.78-.78 2.05 0 2.83L4 21.41c.39.39.9.59 1.41.59.51 0 1.02-.2 1.41-.59l7.78-7.78 2.81-2.81c.8-.78.8-2.07 0-2.86zM5.41 20L4 18.59l7.72-7.72 1.47 1.35L5.41 20z\"/>\n",
              "  </svg>\n",
              "      </button>\n",
              "      \n",
              "  <style>\n",
              "    .colab-df-container {\n",
              "      display:flex;\n",
              "      flex-wrap:wrap;\n",
              "      gap: 12px;\n",
              "    }\n",
              "\n",
              "    .colab-df-convert {\n",
              "      background-color: #E8F0FE;\n",
              "      border: none;\n",
              "      border-radius: 50%;\n",
              "      cursor: pointer;\n",
              "      display: none;\n",
              "      fill: #1967D2;\n",
              "      height: 32px;\n",
              "      padding: 0 0 0 0;\n",
              "      width: 32px;\n",
              "    }\n",
              "\n",
              "    .colab-df-convert:hover {\n",
              "      background-color: #E2EBFA;\n",
              "      box-shadow: 0px 1px 2px rgba(60, 64, 67, 0.3), 0px 1px 3px 1px rgba(60, 64, 67, 0.15);\n",
              "      fill: #174EA6;\n",
              "    }\n",
              "\n",
              "    [theme=dark] .colab-df-convert {\n",
              "      background-color: #3B4455;\n",
              "      fill: #D2E3FC;\n",
              "    }\n",
              "\n",
              "    [theme=dark] .colab-df-convert:hover {\n",
              "      background-color: #434B5C;\n",
              "      box-shadow: 0px 1px 3px 1px rgba(0, 0, 0, 0.15);\n",
              "      filter: drop-shadow(0px 1px 2px rgba(0, 0, 0, 0.3));\n",
              "      fill: #FFFFFF;\n",
              "    }\n",
              "  </style>\n",
              "\n",
              "      <script>\n",
              "        const buttonEl =\n",
              "          document.querySelector('#df-38599cdf-5ce1-48f4-a6e2-26358aeef348 button.colab-df-convert');\n",
              "        buttonEl.style.display =\n",
              "          google.colab.kernel.accessAllowed ? 'block' : 'none';\n",
              "\n",
              "        async function convertToInteractive(key) {\n",
              "          const element = document.querySelector('#df-38599cdf-5ce1-48f4-a6e2-26358aeef348');\n",
              "          const dataTable =\n",
              "            await google.colab.kernel.invokeFunction('convertToInteractive',\n",
              "                                                     [key], {});\n",
              "          if (!dataTable) return;\n",
              "\n",
              "          const docLinkHtml = 'Like what you see? Visit the ' +\n",
              "            '<a target=\"_blank\" href=https://colab.research.google.com/notebooks/data_table.ipynb>data table notebook</a>'\n",
              "            + ' to learn more about interactive tables.';\n",
              "          element.innerHTML = '';\n",
              "          dataTable['output_type'] = 'display_data';\n",
              "          await google.colab.output.renderOutput(dataTable, element);\n",
              "          const docLink = document.createElement('div');\n",
              "          docLink.innerHTML = docLinkHtml;\n",
              "          element.appendChild(docLink);\n",
              "        }\n",
              "      </script>\n",
              "    </div>\n",
              "  </div>\n",
              "  "
            ],
            "text/plain": [
              "       order_time  order_id      order_date  ... session_time cancelled_time id\n",
              "0  1/26/2021 2:21    556753  1/26/2021 0:00  ...          NaN            NaN  1\n",
              "1  1/26/2021 2:33    556754  1/26/2021 0:00  ...     3.266667            NaN  2\n",
              "2  1/26/2021 2:39    556755  1/26/2021 0:00  ...     9.816667            NaN  3\n",
              "3  1/26/2021 2:47    556756  1/26/2021 0:00  ...    17.533333            NaN  4\n",
              "4  1/26/2021 3:06    556757  1/26/2021 0:00  ...     1.350000            NaN  5\n",
              "\n",
              "[5 rows x 21 columns]"
            ]
          },
          "metadata": {},
          "execution_count": 10
        }
      ]
    },
    {
      "cell_type": "code",
      "source": [
        "df.shape"
      ],
      "metadata": {
        "colab": {
          "base_uri": "https://localhost:8080/"
        },
        "id": "wc9gT3Tntkkd",
        "outputId": "ddab8fbf-f8d7-4004-af84-c2e63fac5053"
      },
      "execution_count": null,
      "outputs": [
        {
          "output_type": "execute_result",
          "data": {
            "text/plain": [
              "(426928, 21)"
            ]
          },
          "metadata": {},
          "execution_count": 11
        }
      ]
    },
    {
      "cell_type": "code",
      "source": [
        "df.info()"
      ],
      "metadata": {
        "colab": {
          "base_uri": "https://localhost:8080/"
        },
        "id": "kuhP8BYBxl0J",
        "outputId": "1f1273b1-2613-48a0-e775-29317f695abf"
      },
      "execution_count": null,
      "outputs": [
        {
          "output_type": "stream",
          "name": "stdout",
          "text": [
            "<class 'pandas.core.frame.DataFrame'>\n",
            "RangeIndex: 426928 entries, 0 to 426927\n",
            "Data columns (total 21 columns):\n",
            " #   Column                Non-Null Count   Dtype  \n",
            "---  ------                --------------   -----  \n",
            " 0   order_time            426928 non-null  object \n",
            " 1   order_id              426928 non-null  int64  \n",
            " 2   order_date            426928 non-null  object \n",
            " 3   allot_time            426928 non-null  object \n",
            " 4   accept_time           426753 non-null  object \n",
            " 5   pickup_time           280482 non-null  object \n",
            " 6   delivered_time        278699 non-null  object \n",
            " 7   rider_id              426927 non-null  float64\n",
            " 8   first_mile_distance   426927 non-null  float64\n",
            " 9   last_mile_distance    426927 non-null  float64\n",
            " 10  alloted_orders        411745 non-null  float64\n",
            " 11  delivered_orders      411372 non-null  float64\n",
            " 12  cancelled             282083 non-null  float64\n",
            " 13  undelivered_orders    411372 non-null  float64\n",
            " 14  lifetime_order_count  426113 non-null  float64\n",
            " 15  reassignment_method   13418 non-null   object \n",
            " 16  reassignment_reason   13429 non-null   object \n",
            " 17  reassigned_order      13429 non-null   float64\n",
            " 18  session_time          419538 non-null  float64\n",
            " 19  cancelled_time        3385 non-null    object \n",
            " 20  id                    426928 non-null  int64  \n",
            "dtypes: float64(10), int64(2), object(9)\n",
            "memory usage: 68.4+ MB\n"
          ]
        }
      ]
    },
    {
      "cell_type": "code",
      "source": [
        "df.describe().T"
      ],
      "metadata": {
        "colab": {
          "base_uri": "https://localhost:8080/",
          "height": 425
        },
        "id": "Od0lPLAaxuYg",
        "outputId": "c25da2cc-5a85-4992-9f5b-4bc45fba93e4"
      },
      "execution_count": null,
      "outputs": [
        {
          "output_type": "execute_result",
          "data": {
            "text/html": [
              "\n",
              "  <div id=\"df-77ffccd8-93f2-4132-8fd8-a7a406619584\">\n",
              "    <div class=\"colab-df-container\">\n",
              "      <div>\n",
              "<style scoped>\n",
              "    .dataframe tbody tr th:only-of-type {\n",
              "        vertical-align: middle;\n",
              "    }\n",
              "\n",
              "    .dataframe tbody tr th {\n",
              "        vertical-align: top;\n",
              "    }\n",
              "\n",
              "    .dataframe thead th {\n",
              "        text-align: right;\n",
              "    }\n",
              "</style>\n",
              "<table border=\"1\" class=\"dataframe\">\n",
              "  <thead>\n",
              "    <tr style=\"text-align: right;\">\n",
              "      <th></th>\n",
              "      <th>count</th>\n",
              "      <th>mean</th>\n",
              "      <th>std</th>\n",
              "      <th>min</th>\n",
              "      <th>25%</th>\n",
              "      <th>50%</th>\n",
              "      <th>75%</th>\n",
              "      <th>max</th>\n",
              "    </tr>\n",
              "  </thead>\n",
              "  <tbody>\n",
              "    <tr>\n",
              "      <th>order_id</th>\n",
              "      <td>426928.0</td>\n",
              "      <td>324513.190271</td>\n",
              "      <td>193220.097053</td>\n",
              "      <td>0.0</td>\n",
              "      <td>106731.750000</td>\n",
              "      <td>381378.5000</td>\n",
              "      <td>488110.250000</td>\n",
              "      <td>594842.000000</td>\n",
              "    </tr>\n",
              "    <tr>\n",
              "      <th>rider_id</th>\n",
              "      <td>426927.0</td>\n",
              "      <td>7201.138818</td>\n",
              "      <td>5488.687617</td>\n",
              "      <td>0.0</td>\n",
              "      <td>2502.000000</td>\n",
              "      <td>5949.0000</td>\n",
              "      <td>10954.000000</td>\n",
              "      <td>21566.000000</td>\n",
              "    </tr>\n",
              "    <tr>\n",
              "      <th>first_mile_distance</th>\n",
              "      <td>426927.0</td>\n",
              "      <td>1.264153</td>\n",
              "      <td>0.852223</td>\n",
              "      <td>0.0</td>\n",
              "      <td>0.578700</td>\n",
              "      <td>1.1824</td>\n",
              "      <td>1.892900</td>\n",
              "      <td>54.690200</td>\n",
              "    </tr>\n",
              "    <tr>\n",
              "      <th>last_mile_distance</th>\n",
              "      <td>426927.0</td>\n",
              "      <td>2.936712</td>\n",
              "      <td>1.883773</td>\n",
              "      <td>0.0</td>\n",
              "      <td>1.430000</td>\n",
              "      <td>2.6300</td>\n",
              "      <td>4.200000</td>\n",
              "      <td>22.410000</td>\n",
              "    </tr>\n",
              "    <tr>\n",
              "      <th>alloted_orders</th>\n",
              "      <td>411745.0</td>\n",
              "      <td>104.782807</td>\n",
              "      <td>89.627089</td>\n",
              "      <td>1.0</td>\n",
              "      <td>37.000000</td>\n",
              "      <td>82.0000</td>\n",
              "      <td>147.000000</td>\n",
              "      <td>565.000000</td>\n",
              "    </tr>\n",
              "    <tr>\n",
              "      <th>delivered_orders</th>\n",
              "      <td>411372.0</td>\n",
              "      <td>104.097012</td>\n",
              "      <td>89.131296</td>\n",
              "      <td>1.0</td>\n",
              "      <td>36.000000</td>\n",
              "      <td>81.0000</td>\n",
              "      <td>146.000000</td>\n",
              "      <td>560.000000</td>\n",
              "    </tr>\n",
              "    <tr>\n",
              "      <th>cancelled</th>\n",
              "      <td>282083.0</td>\n",
              "      <td>0.012000</td>\n",
              "      <td>0.108886</td>\n",
              "      <td>0.0</td>\n",
              "      <td>0.000000</td>\n",
              "      <td>0.0000</td>\n",
              "      <td>0.000000</td>\n",
              "      <td>1.000000</td>\n",
              "    </tr>\n",
              "    <tr>\n",
              "      <th>undelivered_orders</th>\n",
              "      <td>411372.0</td>\n",
              "      <td>0.779433</td>\n",
              "      <td>1.075937</td>\n",
              "      <td>0.0</td>\n",
              "      <td>0.000000</td>\n",
              "      <td>0.0000</td>\n",
              "      <td>1.000000</td>\n",
              "      <td>10.000000</td>\n",
              "    </tr>\n",
              "    <tr>\n",
              "      <th>lifetime_order_count</th>\n",
              "      <td>426113.0</td>\n",
              "      <td>854.663516</td>\n",
              "      <td>1511.906719</td>\n",
              "      <td>0.0</td>\n",
              "      <td>162.000000</td>\n",
              "      <td>395.0000</td>\n",
              "      <td>949.000000</td>\n",
              "      <td>30469.000000</td>\n",
              "    </tr>\n",
              "    <tr>\n",
              "      <th>reassigned_order</th>\n",
              "      <td>13429.0</td>\n",
              "      <td>1.000000</td>\n",
              "      <td>0.000000</td>\n",
              "      <td>1.0</td>\n",
              "      <td>1.000000</td>\n",
              "      <td>1.0000</td>\n",
              "      <td>1.000000</td>\n",
              "      <td>1.000000</td>\n",
              "    </tr>\n",
              "    <tr>\n",
              "      <th>session_time</th>\n",
              "      <td>419538.0</td>\n",
              "      <td>225.863563</td>\n",
              "      <td>180.828639</td>\n",
              "      <td>0.0</td>\n",
              "      <td>85.133333</td>\n",
              "      <td>179.8500</td>\n",
              "      <td>329.516667</td>\n",
              "      <td>1298.966667</td>\n",
              "    </tr>\n",
              "    <tr>\n",
              "      <th>id</th>\n",
              "      <td>426928.0</td>\n",
              "      <td>213464.500000</td>\n",
              "      <td>123243.642199</td>\n",
              "      <td>1.0</td>\n",
              "      <td>106732.750000</td>\n",
              "      <td>213464.5000</td>\n",
              "      <td>320196.250000</td>\n",
              "      <td>426928.000000</td>\n",
              "    </tr>\n",
              "  </tbody>\n",
              "</table>\n",
              "</div>\n",
              "      <button class=\"colab-df-convert\" onclick=\"convertToInteractive('df-77ffccd8-93f2-4132-8fd8-a7a406619584')\"\n",
              "              title=\"Convert this dataframe to an interactive table.\"\n",
              "              style=\"display:none;\">\n",
              "        \n",
              "  <svg xmlns=\"http://www.w3.org/2000/svg\" height=\"24px\"viewBox=\"0 0 24 24\"\n",
              "       width=\"24px\">\n",
              "    <path d=\"M0 0h24v24H0V0z\" fill=\"none\"/>\n",
              "    <path d=\"M18.56 5.44l.94 2.06.94-2.06 2.06-.94-2.06-.94-.94-2.06-.94 2.06-2.06.94zm-11 1L8.5 8.5l.94-2.06 2.06-.94-2.06-.94L8.5 2.5l-.94 2.06-2.06.94zm10 10l.94 2.06.94-2.06 2.06-.94-2.06-.94-.94-2.06-.94 2.06-2.06.94z\"/><path d=\"M17.41 7.96l-1.37-1.37c-.4-.4-.92-.59-1.43-.59-.52 0-1.04.2-1.43.59L10.3 9.45l-7.72 7.72c-.78.78-.78 2.05 0 2.83L4 21.41c.39.39.9.59 1.41.59.51 0 1.02-.2 1.41-.59l7.78-7.78 2.81-2.81c.8-.78.8-2.07 0-2.86zM5.41 20L4 18.59l7.72-7.72 1.47 1.35L5.41 20z\"/>\n",
              "  </svg>\n",
              "      </button>\n",
              "      \n",
              "  <style>\n",
              "    .colab-df-container {\n",
              "      display:flex;\n",
              "      flex-wrap:wrap;\n",
              "      gap: 12px;\n",
              "    }\n",
              "\n",
              "    .colab-df-convert {\n",
              "      background-color: #E8F0FE;\n",
              "      border: none;\n",
              "      border-radius: 50%;\n",
              "      cursor: pointer;\n",
              "      display: none;\n",
              "      fill: #1967D2;\n",
              "      height: 32px;\n",
              "      padding: 0 0 0 0;\n",
              "      width: 32px;\n",
              "    }\n",
              "\n",
              "    .colab-df-convert:hover {\n",
              "      background-color: #E2EBFA;\n",
              "      box-shadow: 0px 1px 2px rgba(60, 64, 67, 0.3), 0px 1px 3px 1px rgba(60, 64, 67, 0.15);\n",
              "      fill: #174EA6;\n",
              "    }\n",
              "\n",
              "    [theme=dark] .colab-df-convert {\n",
              "      background-color: #3B4455;\n",
              "      fill: #D2E3FC;\n",
              "    }\n",
              "\n",
              "    [theme=dark] .colab-df-convert:hover {\n",
              "      background-color: #434B5C;\n",
              "      box-shadow: 0px 1px 3px 1px rgba(0, 0, 0, 0.15);\n",
              "      filter: drop-shadow(0px 1px 2px rgba(0, 0, 0, 0.3));\n",
              "      fill: #FFFFFF;\n",
              "    }\n",
              "  </style>\n",
              "\n",
              "      <script>\n",
              "        const buttonEl =\n",
              "          document.querySelector('#df-77ffccd8-93f2-4132-8fd8-a7a406619584 button.colab-df-convert');\n",
              "        buttonEl.style.display =\n",
              "          google.colab.kernel.accessAllowed ? 'block' : 'none';\n",
              "\n",
              "        async function convertToInteractive(key) {\n",
              "          const element = document.querySelector('#df-77ffccd8-93f2-4132-8fd8-a7a406619584');\n",
              "          const dataTable =\n",
              "            await google.colab.kernel.invokeFunction('convertToInteractive',\n",
              "                                                     [key], {});\n",
              "          if (!dataTable) return;\n",
              "\n",
              "          const docLinkHtml = 'Like what you see? Visit the ' +\n",
              "            '<a target=\"_blank\" href=https://colab.research.google.com/notebooks/data_table.ipynb>data table notebook</a>'\n",
              "            + ' to learn more about interactive tables.';\n",
              "          element.innerHTML = '';\n",
              "          dataTable['output_type'] = 'display_data';\n",
              "          await google.colab.output.renderOutput(dataTable, element);\n",
              "          const docLink = document.createElement('div');\n",
              "          docLink.innerHTML = docLinkHtml;\n",
              "          element.appendChild(docLink);\n",
              "        }\n",
              "      </script>\n",
              "    </div>\n",
              "  </div>\n",
              "  "
            ],
            "text/plain": [
              "                         count           mean  ...            75%            max\n",
              "order_id              426928.0  324513.190271  ...  488110.250000  594842.000000\n",
              "rider_id              426927.0    7201.138818  ...   10954.000000   21566.000000\n",
              "first_mile_distance   426927.0       1.264153  ...       1.892900      54.690200\n",
              "last_mile_distance    426927.0       2.936712  ...       4.200000      22.410000\n",
              "alloted_orders        411745.0     104.782807  ...     147.000000     565.000000\n",
              "delivered_orders      411372.0     104.097012  ...     146.000000     560.000000\n",
              "cancelled             282083.0       0.012000  ...       0.000000       1.000000\n",
              "undelivered_orders    411372.0       0.779433  ...       1.000000      10.000000\n",
              "lifetime_order_count  426113.0     854.663516  ...     949.000000   30469.000000\n",
              "reassigned_order       13429.0       1.000000  ...       1.000000       1.000000\n",
              "session_time          419538.0     225.863563  ...     329.516667    1298.966667\n",
              "id                    426928.0  213464.500000  ...  320196.250000  426928.000000\n",
              "\n",
              "[12 rows x 8 columns]"
            ]
          },
          "metadata": {},
          "execution_count": 13
        }
      ]
    },
    {
      "cell_type": "code",
      "source": [
        "df.isnull().sum()"
      ],
      "metadata": {
        "id": "d-zbB0lMx2Zd",
        "colab": {
          "base_uri": "https://localhost:8080/"
        },
        "outputId": "b6f358c3-efa8-4df9-96c0-eca858aae204"
      },
      "execution_count": null,
      "outputs": [
        {
          "output_type": "execute_result",
          "data": {
            "text/plain": [
              "order_time                   0\n",
              "order_id                     0\n",
              "order_date                   0\n",
              "allot_time                   0\n",
              "accept_time                175\n",
              "pickup_time             146446\n",
              "delivered_time          148229\n",
              "rider_id                     1\n",
              "first_mile_distance          1\n",
              "last_mile_distance           1\n",
              "alloted_orders           15183\n",
              "delivered_orders         15556\n",
              "cancelled               144845\n",
              "undelivered_orders       15556\n",
              "lifetime_order_count       815\n",
              "reassignment_method     413510\n",
              "reassignment_reason     413499\n",
              "reassigned_order        413499\n",
              "session_time              7390\n",
              "cancelled_time          423543\n",
              "id                           0\n",
              "dtype: int64"
            ]
          },
          "metadata": {},
          "execution_count": 14
        }
      ]
    },
    {
      "cell_type": "code",
      "source": [
        "nan_replacements = {\"accept_time:\": 0.,\"pickup_time\": 0., \"delivered_time\": 0, \"cancelled\": 0}\n",
        "full_data_cln = df.fillna(nan_replacements)\n",
        "\n",
        "# Some rows contain entreis with 0 adults, 0 children and 0 babies. \n",
        "# I'm dropping these entries with no guests.\n",
        "zero_guests = list(full_data_cln.loc[full_data_cln[\"Adults\"]\n",
        "                   + full_data_cln[\"Children\"]\n",
        "                   + full_data_cln[\"Babies\"]==0].index)\n",
        "full_data_cln.drop(full_data_cln.index[zero_guests], inplace=True)"
      ],
      "metadata": {
        "colab": {
          "base_uri": "https://localhost:8080/",
          "height": 171
        },
        "id": "9oeVCuMtXyOQ",
        "outputId": "5c3bd938-ee5b-4685-c67b-fbf6ba91a4ce"
      },
      "execution_count": null,
      "outputs": [
        {
          "output_type": "error",
          "ename": "NameError",
          "evalue": "ignored",
          "traceback": [
            "\u001b[0;31m---------------------------------------------------------------------------\u001b[0m",
            "\u001b[0;31mNameError\u001b[0m                                 Traceback (most recent call last)",
            "\u001b[0;32m<ipython-input-39-62db572072d1>\u001b[0m in \u001b[0;36m<module>\u001b[0;34m()\u001b[0m\n\u001b[0;32m----> 1\u001b[0;31m \u001b[0mprint\u001b[0m\u001b[0;34m(\u001b[0m\u001b[0mlen\u001b[0m\u001b[0;34m(\u001b[0m\u001b[0mmissing\u001b[0m\u001b[0;34m)\u001b[0m\u001b[0;34m)\u001b[0m\u001b[0;34m\u001b[0m\u001b[0;34m\u001b[0m\u001b[0m\n\u001b[0m",
            "\u001b[0;31mNameError\u001b[0m: name 'missing' is not defined"
          ]
        }
      ]
    },
    {
      "cell_type": "code",
      "source": [
        "df = pd.DataFrame(np.random.random((5,5)), columns=[\"order_time \",\"order_id\",\"pickup_time\",\"cancelled\",\"reassigned_order\"])\n",
        "\n",
        "# Default heatmap\n",
        "p1 = sns.heatmap(df)"
      ],
      "metadata": {
        "colab": {
          "base_uri": "https://localhost:8080/",
          "height": 342
        },
        "id": "40OZp4C5tbyR",
        "outputId": "49d94b70-b60c-439c-fc35-d1f1b87deae5"
      },
      "execution_count": null,
      "outputs": [
        {
          "output_type": "display_data",
          "data": {
            "image/png": "[encoded data removed]",
            "text/plain": [
              "<Figure size 432x288 with 2 Axes>"
            ]
          },
          "metadata": {
            "needs_background": "light"
          }
        }
      ]
    },
    {
      "cell_type": "code",
      "source": [
        "bestfeatures = SelectKBest(score_func=f_regression, k=\"all\")"
      ],
      "metadata": {
        "id": "xRmhzOsXErSt"
      },
      "execution_count": null,
      "outputs": []
    },
    {
      "cell_type": "code",
      "source": [
        "fit = bestfeatures.fit(X,y)\n",
        "dfscores = pd.DataFrame(fit.scores_)\n",
        "dfcolumns = pd.DataFrame(X.columns)"
      ],
      "metadata": {
        "colab": {
          "base_uri": "https://localhost:8080/",
          "height": 208
        },
        "id": "BuGpE6qHFBIv",
        "outputId": "ec18b799-818f-4478-ce11-c83bc3a1fb49"
      },
      "execution_count": 18,
      "outputs": [
        {
          "output_type": "error",
          "ename": "NameError",
          "evalue": "ignored",
          "traceback": [
            "\u001b[0;31m---------------------------------------------------------------------------\u001b[0m",
            "\u001b[0;31mNameError\u001b[0m                                 Traceback (most recent call last)",
            "\u001b[0;32m<ipython-input-18-cc124641fa24>\u001b[0m in \u001b[0;36m<module>\u001b[0;34m()\u001b[0m\n\u001b[0;32m----> 1\u001b[0;31m \u001b[0mfit\u001b[0m \u001b[0;34m=\u001b[0m \u001b[0mbestfeatures\u001b[0m\u001b[0;34m.\u001b[0m\u001b[0mfit\u001b[0m\u001b[0;34m(\u001b[0m\u001b[0mX\u001b[0m\u001b[0;34m,\u001b[0m\u001b[0my\u001b[0m\u001b[0;34m)\u001b[0m\u001b[0;34m\u001b[0m\u001b[0;34m\u001b[0m\u001b[0m\n\u001b[0m\u001b[1;32m      2\u001b[0m \u001b[0mdfscores\u001b[0m \u001b[0;34m=\u001b[0m \u001b[0mpd\u001b[0m\u001b[0;34m.\u001b[0m\u001b[0mDataFrame\u001b[0m\u001b[0;34m(\u001b[0m\u001b[0mfit\u001b[0m\u001b[0;34m.\u001b[0m\u001b[0mscores_\u001b[0m\u001b[0;34m)\u001b[0m\u001b[0;34m\u001b[0m\u001b[0;34m\u001b[0m\u001b[0m\n\u001b[1;32m      3\u001b[0m \u001b[0mdfcolumns\u001b[0m \u001b[0;34m=\u001b[0m \u001b[0mpd\u001b[0m\u001b[0;34m.\u001b[0m\u001b[0mDataFrame\u001b[0m\u001b[0;34m(\u001b[0m\u001b[0mX\u001b[0m\u001b[0;34m.\u001b[0m\u001b[0mcolumns\u001b[0m\u001b[0;34m)\u001b[0m\u001b[0;34m\u001b[0m\u001b[0;34m\u001b[0m\u001b[0m\n",
            "\u001b[0;31mNameError\u001b[0m: name 'X' is not defined"
          ]
        }
      ]
    },
    {
      "cell_type": "code",
      "source": [
        ""
      ],
      "metadata": {
        "id": "1yUK4nceFBAL"
      },
      "execution_count": null,
      "outputs": []
    },
    {
      "cell_type": "code",
      "source": [
        ""
      ],
      "metadata": {
        "id": "jcMjEaTWFA0g"
      },
      "execution_count": null,
      "outputs": []
    },
    {
      "cell_type": "code",
      "source": [
        ""
      ],
      "metadata": {
        "id": "LiwlfUc4FAjS"
      },
      "execution_count": null,
      "outputs": []
    }
  ]
}